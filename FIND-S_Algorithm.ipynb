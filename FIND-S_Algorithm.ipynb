{
 "cells": [
  {
   "cell_type": "markdown",
   "id": "78e8ed56-9db7-4209-bfc3-c2d086992198",
   "metadata": {},
   "source": [
    "Lab1"
   ]
  },
  {
   "cell_type": "code",
   "execution_count": null,
   "id": "05a689f4-7c4b-40fa-98d8-ce78ae341c27",
   "metadata": {},
   "outputs": [
    {
     "name": "stdout",
     "output_type": "stream",
     "text": [
      "[['sunny', 'warm', 'normal', 'strong', 'warm', 'same', 'yes'], ['sunny', 'warm', 'high', 'strong', 'warm', 'same', 'yes'], ['rainy', 'cold', 'high', 'strong', 'warm', 'change', 'no'], ['sunny', 'warm', 'high', 'strong', 'cool', 'change', 'yes']]\n",
      "\n",
      " The total number of training instances are : 4\n",
      "\n",
      " The initial hypothesis is : \n",
      "['0', '0', '0', '0', '0', '0']\n",
      "\n",
      " The hypothesis for the training instance 1 is : \n",
      " ['sunny', 'warm', 'normal', 'strong', 'warm', 'same']\n",
      "\n",
      " The hypothesis for the training instance 2 is : \n",
      " ['sunny', 'warm', '?', 'strong', 'warm', 'same']\n",
      "\n",
      " The hypothesis for the training instance 4 is : \n",
      " ['sunny', 'warm', '?', 'strong', '?', '?']\n",
      "\n",
      " The Maximally specific hypothesis for the training instance is \n",
      "['sunny', 'warm', '?', 'strong', '?', '?']\n"
     ]
    }
   ],
   "source": [
    "import csv\n",
    "a = []\n",
    "\n",
    "# Reading CSV file\n",
    "with open('D:\\\\MLT_LAB\\\\enjoysport.csv', 'r') as csvfile:\n",
    "    for row in csv.reader(csvfile):\n",
    "        a.append(row)\n",
    "\n",
    "# Display the data\n",
    "print(a)\n",
    "\n",
    "# Initialize\n",
    "print(\"\\n The total number of training instances are :\", len(a))\n",
    "num_attribute = len(a[0]) - 1\n",
    "print(\"\\n The initial hypothesis is : \")\n",
    "hypothesis = ['0'] * num_attribute\n",
    "print(hypothesis)\n",
    "\n",
    "# Apply Find-S\n",
    "for i in range(0, len(a)):\n",
    "    if a[i][num_attribute] == 'yes':  # Only positive examples\n",
    "        for j in range(0, num_attribute):\n",
    "            if hypothesis[j] == '0' or hypothesis[j] == a[i][j]:\n",
    "                hypothesis[j] = a[i][j]\n",
    "            else:\n",
    "                hypothesis[j] = '?'\n",
    "        print(\"\\n The hypothesis for the training instance {} is : \\n\".format(i+1), hypothesis)\n",
    "\n",
    "# Final result\n",
    "print(\"\\n The Maximally specific hypothesis for the training instance is \")\n",
    "print(hypothesis)\n",
    "\n"
   ]
  },
  {
   "cell_type": "code",
   "execution_count": null,
   "id": "e4503ed8-538a-406d-8d5c-132f8f909e19",
   "metadata": {},
   "outputs": [],
   "source": []
  }
 ],
 "metadata": {
  "kernelspec": {
   "display_name": "Python 3 (ipykernel)",
   "language": "python",
   "name": "python3"
  },
  "language_info": {
   "codemirror_mode": {
    "name": "ipython",
    "version": 3
   },
   "file_extension": ".py",
   "mimetype": "text/x-python",
   "name": "python",
   "nbconvert_exporter": "python",
   "pygments_lexer": "ipython3",
   "version": "3.12.7"
  }
 },
 "nbformat": 4,
 "nbformat_minor": 5
}
